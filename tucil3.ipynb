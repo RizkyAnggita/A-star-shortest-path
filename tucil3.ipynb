{
 "cells": [
  {
   "cell_type": "markdown",
   "metadata": {},
   "source": [
    "# A* Algorithm for Shortest Path Finding"
   ]
  },
  {
   "cell_type": "markdown",
   "metadata": {},
   "source": [
    "# Author\n",
    "Rizky Anggita S Siregar - 13519132 <br>\n",
    "Wilson Tandya           - 13519228<br>\n",
    "Institut Teknologi Bandung <br>\n",
    "2021 <br>"
   ]
  },
  {
   "cell_type": "code",
   "execution_count": 1,
   "metadata": {
    "scrolled": true
   },
   "outputs": [
    {
     "name": "stdout",
     "output_type": "stream",
     "text": [
      "Requirement already satisfied: numpy in c:\\users\\wilso\\appdata\\local\\programs\\python\\python37-32\\lib\\site-packages (1.17.4)\n"
     ]
    },
    {
     "name": "stderr",
     "output_type": "stream",
     "text": [
      "You are using pip version 19.0.3, however version 21.0.1 is available.\n",
      "You should consider upgrading via the 'python -m pip install --upgrade pip' command.\n"
     ]
    },
    {
     "name": "stdout",
     "output_type": "stream",
     "text": [
      "Requirement already satisfied: numpy in c:\\users\\wilso\\appdata\\local\\programs\\python\\python37-32\\lib\\site-packages (1.17.4)\n"
     ]
    },
    {
     "name": "stderr",
     "output_type": "stream",
     "text": [
      "You are using pip version 19.0.3, however version 21.0.1 is available.\n",
      "You should consider upgrading via the 'python -m pip install --upgrade pip' command.\n"
     ]
    },
    {
     "name": "stdout",
     "output_type": "stream",
     "text": [
      "Requirement already satisfied: matplotlib in c:\\users\\wilso\\appdata\\local\\programs\\python\\python37-32\\lib\\site-packages (3.1.1)\n",
      "Requirement already satisfied: pyparsing!=2.0.4,!=2.1.2,!=2.1.6,>=2.0.1 in c:\\users\\wilso\\appdata\\local\\programs\\python\\python37-32\\lib\\site-packages (from matplotlib) (2.4.5)\n",
      "Requirement already satisfied: kiwisolver>=1.0.1 in c:\\users\\wilso\\appdata\\local\\programs\\python\\python37-32\\lib\\site-packages (from matplotlib) (1.1.0)\n",
      "Requirement already satisfied: numpy>=1.11 in c:\\users\\wilso\\appdata\\local\\programs\\python\\python37-32\\lib\\site-packages (from matplotlib) (1.17.4)\n",
      "Requirement already satisfied: python-dateutil>=2.1 in c:\\users\\wilso\\appdata\\local\\programs\\python\\python37-32\\lib\\site-packages (from matplotlib) (2.8.1)\n",
      "Requirement already satisfied: cycler>=0.10 in c:\\users\\wilso\\appdata\\local\\programs\\python\\python37-32\\lib\\site-packages (from matplotlib) (0.10.0)\n",
      "Requirement already satisfied: setuptools in c:\\users\\wilso\\appdata\\local\\programs\\python\\python37-32\\lib\\site-packages (from kiwisolver>=1.0.1->matplotlib) (40.8.0)\n",
      "Requirement already satisfied: six>=1.5 in c:\\users\\wilso\\appdata\\local\\programs\\python\\python37-32\\lib\\site-packages (from python-dateutil>=2.1->matplotlib) (1.13.0)\n"
     ]
    },
    {
     "name": "stderr",
     "output_type": "stream",
     "text": [
      "You are using pip version 19.0.3, however version 21.0.1 is available.\n",
      "You should consider upgrading via the 'python -m pip install --upgrade pip' command.\n"
     ]
    },
    {
     "name": "stdout",
     "output_type": "stream",
     "text": [
      "Requirement already satisfied: networkx in c:\\users\\wilso\\appdata\\local\\programs\\python\\python37-32\\lib\\site-packages (2.5)\n",
      "Requirement already satisfied: decorator>=4.3.0 in c:\\users\\wilso\\appdata\\local\\programs\\python\\python37-32\\lib\\site-packages (from networkx) (4.4.2)\n"
     ]
    },
    {
     "name": "stderr",
     "output_type": "stream",
     "text": [
      "You are using pip version 19.0.3, however version 21.0.1 is available.\n",
      "You should consider upgrading via the 'python -m pip install --upgrade pip' command.\n"
     ]
    },
    {
     "name": "stdout",
     "output_type": "stream",
     "text": [
      "Requirement already satisfied: decorator==4.4.2 in c:\\users\\wilso\\appdata\\local\\programs\\python\\python37-32\\lib\\site-packages (4.4.2)\n"
     ]
    },
    {
     "name": "stderr",
     "output_type": "stream",
     "text": [
      "You are using pip version 19.0.3, however version 21.0.1 is available.\n",
      "You should consider upgrading via the 'python -m pip install --upgrade pip' command.\n"
     ]
    },
    {
     "name": "stdout",
     "output_type": "stream",
     "text": [
      "Requirement already satisfied: folium in c:\\users\\wilso\\appdata\\local\\programs\\python\\python37-32\\lib\\site-packages (0.12.1)\n",
      "Requirement already satisfied: branca>=0.3.0 in c:\\users\\wilso\\appdata\\local\\programs\\python\\python37-32\\lib\\site-packages (from folium) (0.4.2)\n",
      "Requirement already satisfied: requests in c:\\users\\wilso\\appdata\\local\\programs\\python\\python37-32\\lib\\site-packages (from folium) (2.25.1)\n",
      "Requirement already satisfied: jinja2>=2.9 in c:\\users\\wilso\\appdata\\local\\programs\\python\\python37-32\\lib\\site-packages (from folium) (2.11.2)\n",
      "Requirement already satisfied: numpy in c:\\users\\wilso\\appdata\\local\\programs\\python\\python37-32\\lib\\site-packages (from folium) (1.17.4)\n",
      "Requirement already satisfied: chardet<5,>=3.0.2 in c:\\users\\wilso\\appdata\\local\\programs\\python\\python37-32\\lib\\site-packages (from requests->folium) (4.0.0)\n",
      "Requirement already satisfied: urllib3<1.27,>=1.21.1 in c:\\users\\wilso\\appdata\\local\\programs\\python\\python37-32\\lib\\site-packages (from requests->folium) (1.25.11)\n",
      "Requirement already satisfied: idna<3,>=2.5 in c:\\users\\wilso\\appdata\\local\\programs\\python\\python37-32\\lib\\site-packages (from requests->folium) (2.10)\n",
      "Requirement already satisfied: certifi>=2017.4.17 in c:\\users\\wilso\\appdata\\local\\programs\\python\\python37-32\\lib\\site-packages (from requests->folium) (2020.12.5)\n",
      "Requirement already satisfied: MarkupSafe>=0.23 in c:\\users\\wilso\\appdata\\local\\programs\\python\\python37-32\\lib\\site-packages (from jinja2>=2.9->folium) (1.1.1)\n"
     ]
    },
    {
     "name": "stderr",
     "output_type": "stream",
     "text": [
      "You are using pip version 19.0.3, however version 21.0.1 is available.\n",
      "You should consider upgrading via the 'python -m pip install --upgrade pip' command.\n"
     ]
    }
   ],
   "source": [
    "# Run this cell for the first time\n",
    "!pip3 install numpy\n",
    "!pip3 install numpy\n",
    "!pip3 install matplotlib\n",
    "!pip3 install networkx\n",
    "!pip3 install decorator==4.4.2\n",
    "!pip3 install folium"
   ]
  },
  {
   "cell_type": "code",
   "execution_count": 2,
   "metadata": {},
   "outputs": [],
   "source": [
    "import os\n",
    "import math\n",
    "import queue\n",
    "from queue import PriorityQueue\n",
    "import numpy as np\n",
    "import matplotlib.pyplot as plt\n",
    "import networkx as nx\n",
    "import folium\n",
    "from folium import plugins"
   ]
  },
  {
   "cell_type": "code",
   "execution_count": 3,
   "metadata": {},
   "outputs": [],
   "source": [
    "# Self-made Graph Class\n",
    "# Graph implemented with list of nodes and adjacency weigted matrix\n",
    "class Graph():\n",
    "    def __init__(self, nNodes):\n",
    "        self.nodes = []\n",
    "        self.adj_matrix = []\n",
    "\n",
    "        # Initialize Weighted Graph Adjacency Matrix\n",
    "        for i in range(nNodes):\n",
    "            col = []\n",
    "            for j in range(nNodes):\n",
    "                col.append(0)\n",
    "            self.adj_matrix.append(col)\n",
    "\n",
    "    def add_node(self, node):\n",
    "        self.nodes.append(node)\n",
    "\n",
    "    def add_edge(self, u, v, weight):\n",
    "        index_u = self.nodes.index(u)\n",
    "        index_v = self.nodes.index(v)\n",
    "        self.adj_matrix[index_u][index_v] = weight\n",
    "    \n",
    "    def print_node(self):\n",
    "        for node in self.nodes:\n",
    "            print(node, end=\" \")\n",
    "        print()\n",
    "\n",
    "    def print_graph(self):\n",
    "        nNodes = len(self.nodes)\n",
    "        print(\"  \" *len(self.nodes[0]), end=\"\" )\n",
    "        self.print_node()\n",
    "        for i in range (nNodes):\n",
    "            for j in range (nNodes):\n",
    "                #if(j==0):\n",
    "                #    print(self.nodes[i], end=\" \")\n",
    "                print(self.adj_matrix[i][j], end=\" \\t\")\n",
    "            print()"
   ]
  },
  {
   "cell_type": "code",
   "execution_count": 4,
   "metadata": {},
   "outputs": [],
   "source": [
    "# Several needed function\n",
    "def add_graph_from_txt(g, nodeCoordinate, file):\n",
    "    nodeCoordinate = []\n",
    "\n",
    "    for i in range (nNodes):\n",
    "        temp = file.readline()\n",
    "        temp = temp.rsplit(\" \")\n",
    "        nodeCoordinate.append((float(temp[0]), float(temp[1])))\n",
    "        g.add_node(temp[2].rstrip(\"\\n\"))\n",
    "\n",
    "    for i in range (nNodes):\n",
    "        j = 0\n",
    "        temp = file.readline().rsplit(\" \")\n",
    "        \n",
    "        for weight in temp:\n",
    "            g.add_edge(g.nodes[i], g.nodes[j], float(temp[j].rstrip(\"\\n\")))\n",
    "            j+= 1\n",
    "    \n",
    "    return nodeCoordinate\n",
    "\n",
    "def rad (x):\n",
    "    return x*math.pi / 180\n",
    "\n",
    "def haversin (p1, p2):\n",
    "    R = 6378137 #Radius Bumi dalam meter\n",
    "    dLat = rad(p2[0] - p1[0])\n",
    "    dLong = rad(p2[1] - p1[1])\n",
    "    a = (math.sin (dLat / 2))**2 + math.cos (rad(p1[0])) * math.cos (rad(p2[0])) * (math.sin(dLong / 2))**2\n",
    "    c = 2 * math.atan2(math.sqrt(a), math.sqrt(1-a))\n",
    "    res = R * c\n",
    "    return res\n",
    "\n",
    "def euclidean_dist(pointA, pointB):\n",
    "    # Menghitung jarak dua buah titik\n",
    "    xKuad = (pointA[0] - pointB[0])**2\n",
    "    yKuad = (pointA[1] - pointB[1])**2\n",
    "    return math.sqrt(xKuad + yKuad)\n",
    "\n",
    "def SearchIdxNode(N, g):\n",
    "    for i in range(len(g.nodes)):\n",
    "        if (N == g.nodes[i]):\n",
    "            return i"
   ]
  },
  {
   "cell_type": "code",
   "execution_count": 5,
   "metadata": {},
   "outputs": [],
   "source": [
    "# A* Function\n",
    "def AStarV2(g, From, To, nodeCoordinate):\n",
    "    def construct_path(cameFrom, From, To, g):\n",
    "        path = []\n",
    "        idxFrom = g.nodes.index(From)\n",
    "        idxTo = g.nodes.index(To)\n",
    "\n",
    "        i = idxTo\n",
    "        path.append(g.nodes[idxTo])\n",
    "        while(i != idxFrom):\n",
    "            print(i)\n",
    "            path.append(cameFrom[i])\n",
    "            i = g.nodes.index(cameFrom[i])\n",
    "        \n",
    "        path.reverse()\n",
    "        return path\n",
    "\n",
    "    def isInPrioQueue(prioQueue, node):\n",
    "        for item in prioQueue.queue:\n",
    "            if(item[1] == node):\n",
    "                return True\n",
    "        return False\n",
    "\n",
    "    found = False\n",
    "    openSet = queue.PriorityQueue()\n",
    "    idxFrom = g.nodes.index(From)\n",
    "    idxTo = g.nodes.index(To)\n",
    "\n",
    "    f2 = 0 + haversin(nodeCoordinate[idxFrom], nodeCoordinate[idxTo])\n",
    "    openSet.put((f2, From))\n",
    "\n",
    "    # // For node n, gScore[n] is the cost of the cheapest path from start to n currently known.\n",
    "    gScore = []\n",
    "\n",
    "    # // For node n, fScore[n] := gScore[n] + h(n). fScore[n] represents our current best guess as to\n",
    "    # // how short a path from start to finish can be if it goes through n.\n",
    "    fScore = []\n",
    "    cameFrom = []\n",
    "\n",
    "    for node in g2.nodes:\n",
    "        if (node==From):\n",
    "            gScore.append(0)\n",
    "            fScore.append(haversin(nodeCoordinate[idxFrom], nodeCoordinate[idxTo]))\n",
    "        else:\n",
    "            gScore.append(99999)\n",
    "            fScore.append(99999)\n",
    "        cameFrom.append(\"\")\n",
    "\n",
    "    while (not openSet.empty()):\n",
    "        print(openSet.queue)\n",
    "        current = openSet.get()\n",
    "        currentIdx = g.nodes.index(current[1])\n",
    "        if(current[1] == To):\n",
    "            print(\"FOUND\")\n",
    "            found = True\n",
    "            break\n",
    "        print()\n",
    "        # Foreach neighbour of current\n",
    "        # neighbour is every node that connected with current node\n",
    "        # with weight > 0\n",
    "        for i in range(nNodes):\n",
    "            if (g.adj_matrix[currentIdx][i] > 0):\n",
    "                #  tentative_gScore is the distance from start to the neighbor through current\n",
    "                # d jarak dari node current ke tetangganya (weigthnya)\n",
    "                d = g.adj_matrix[currentIdx][i]\n",
    "                tentative_gScore = gScore[currentIdx] + d\n",
    "                \n",
    "                # kalau kita mengunjungi node yang sama dua kali, kita cek apakah gScore node ini\n",
    "                # lebih pendek jika dibandingkan dengan tentative_gscore, yaitu dikunjungi melalui node lain\n",
    "            \n",
    "                if (tentative_gScore < gScore[i]):\n",
    "                    cameFrom[i] = current[1]\n",
    "                    gScore[i] = tentative_gScore\n",
    "                    titikNeighbour = nodeCoordinate[i]\n",
    "                    hn = haversin(titikNeighbour, nodeCoordinate[idxTo])\n",
    "                    fScore[i] = gScore[i] + hn\n",
    "\n",
    "                    if not (isInPrioQueue(openSet, g.nodes[i])):\n",
    "                        openSet.put((fScore[i], g.nodes[i]))\n",
    "    return construct_path(cameFrom, From, To, g), gScore"
   ]
  },
  {
   "cell_type": "code",
   "execution_count": 6,
   "metadata": {},
   "outputs": [],
   "source": [
    "# Function to visualize graph with networkx\n",
    "def visualize_graph(g2, solusi):\n",
    "\n",
    "    adj_np = np.array(g2.adj_matrix)\n",
    "    namaNode = g2.nodes\n",
    "    mylabels = {}\n",
    "    for i in range (len(namaNode)):\n",
    "        mylabels[i] = namaNode[i]\n",
    " \n",
    "    G = nx.from_numpy_matrix(adj_np, create_using=nx.DiGraph)\n",
    "    color_map = []\n",
    "    edge_colors = []    \n",
    "    solusi_idx = []\n",
    "\n",
    "    for i in range (len(solusi)):\n",
    "        a = g2.nodes.index(solusi[i])\n",
    "        solusi_idx.append(a)\n",
    "        \n",
    "    for node in G.nodes:\n",
    "        if node in solusi_idx:\n",
    "            color_map.append(\"green\")\n",
    "        else:\n",
    "            color_map.append(\"red\")\n",
    "\n",
    "    for edges in G.edges:\n",
    "        if(edges[0] in solusi_idx and (edges[1] in solusi_idx) ):\n",
    "            edge_colors.append(\"green\")\n",
    "        else:\n",
    "            edge_colors.append(\"red\")\n",
    "\n",
    "    layout = nx.spring_layout(G)\n",
    "    nx.draw(G, layout, node_size=1000, node_color = color_map, edge_color = edge_colors, labels=mylabels, with_labels=True, arrows=False)\n",
    "    jarak = nx.get_edge_attributes(G, \"weight\")\n",
    "    nx.draw_networkx_edge_labels(G, pos=layout, edge_labels=jarak)\n",
    "    plt.show()"
   ]
  },
  {
   "cell_type": "code",
   "execution_count": null,
   "metadata": {},
   "outputs": [
    {
     "name": "stdout",
     "output_type": "stream",
     "text": [
      "Masukkan nama file: ITB\n",
      "ITB.txt\n",
      "                                GerbangITBGanesa SimpanganTamansariGanesa SimpanganGanesaJuanda BonBin TikunganTamfest SimpanganEmpatMcD McDDago PertigaanTamansariDayangSumbi SimpanganDayangSumbiJuanda SimpanganSiliwangiSaraga SaragaITB PertigaanTamansariSiliwangi PertigaanSiliwangiSumur PertigaanSiliwangiSangkuriang LIPICisitu \n",
      "0.0 \t240.0 \t280.0 \t0.0 \t0.0 \t0.0 \t0.0 \t0.0 \t0.0 \t0.0 \t0.0 \t0.0 \t0.0 \t0.0 \t0.0 \t\n",
      "240.0 \t0.0 \t0.0 \t400.0 \t0.0 \t0.0 \t0.0 \t0.0 \t0.0 \t0.0 \t0.0 \t0.0 \t0.0 \t0.0 \t0.0 \t\n",
      "280.0 \t0.0 \t0.0 \t0.0 \t0.0 \t0.0 \t0.0 \t0.0 \t700.0 \t0.0 \t0.0 \t0.0 \t0.0 \t0.0 \t0.0 \t\n",
      "0.0 \t400.0 \t0.0 \t0.0 \t290.0 \t0.0 \t0.0 \t0.0 \t0.0 \t0.0 \t0.0 \t0.0 \t0.0 \t0.0 \t0.0 \t\n",
      "0.0 \t0.0 \t0.0 \t290.0 \t0.0 \t0.0 \t0.0 \t350.0 \t0.0 \t0.0 \t0.0 \t0.0 \t0.0 \t0.0 \t0.0 \t\n",
      "0.0 \t0.0 \t0.0 \t0.0 \t0.0 \t0.0 \t27.0 \t0.0 \t250.0 \t0.0 \t0.0 \t0.0 \t76.0 \t0.0 \t0.0 \t\n",
      "0.0 \t0.0 \t0.0 \t0.0 \t0.0 \t27.0 \t0.0 \t0.0 \t0.0 \t0.0 \t0.0 \t0.0 \t0.0 \t0.0 \t0.0 \t\n",
      "0.0 \t0.0 \t0.0 \t0.0 \t350.0 \t0.0 \t0.0 \t0.0 \t270.0 \t0.0 \t0.0 \t270.0 \t290.0 \t0.0 \t0.0 \t\n",
      "0.0 \t0.0 \t700.0 \t0.0 \t0.0 \t250.0 \t0.0 \t270.0 \t0.0 \t0.0 \t0.0 \t0.0 \t0.0 \t0.0 \t0.0 \t\n",
      "0.0 \t0.0 \t0.0 \t0.0 \t0.0 \t0.0 \t0.0 \t0.0 \t0.0 \t0.0 \t110.0 \t300.0 \t0.0 \t0.0 \t0.0 \t\n",
      "0.0 \t0.0 \t0.0 \t0.0 \t0.0 \t0.0 \t0.0 \t0.0 \t0.0 \t110.0 \t0.0 \t0.0 \t0.0 \t0.0 \t0.0 \t\n",
      "0.0 \t0.0 \t0.0 \t0.0 \t0.0 \t0.0 \t0.0 \t270.0 \t0.0 \t300.0 \t0.0 \t0.0 \t0.0 \t77.0 \t0.0 \t\n",
      "0.0 \t0.0 \t0.0 \t0.0 \t0.0 \t76.0 \t0.0 \t290.0 \t0.0 \t0.0 \t0.0 \t0.0 \t0.0 \t120.0 \t0.0 \t\n",
      "0.0 \t0.0 \t0.0 \t0.0 \t0.0 \t0.0 \t0.0 \t0.0 \t0.0 \t0.0 \t0.0 \t77.0 \t120.0 \t0.0 \t350.0 \t\n",
      "0.0 \t0.0 \t0.0 \t0.0 \t0.0 \t0.0 \t0.0 \t0.0 \t0.0 \t0.0 \t0.0 \t0.0 \t0.0 \t350.0 \t0.0 \t\n"
     ]
    }
   ],
   "source": [
    "import os\n",
    "#-------MAIN PROGRAM-----\n",
    "filename = input(str(\"Masukkan nama file: \"))\n",
    "filename = filename+\".txt\"\n",
    "a = os.path.abspath(os.curdir)\n",
    "\n",
    "\n",
    "if os.name=='nt':\n",
    "    file_path = os.path.join(filename)\n",
    "else:\n",
    "    file_path = os.path.join(a, filename)\n",
    "\n",
    "print(file_path)\n",
    "f = open(file_path, \"r\")\n",
    "\n",
    "nNodes = int(f.readline())\n",
    "nodeCoordinate = []\n",
    "g2 = Graph(nNodes)\n",
    "nodeCoordinate = add_graph_from_txt(g2, nodeCoordinate, f)\n",
    "\n",
    "g2.print_graph()\n",
    "From = input(str(\"Asal:\"))\n",
    "To = input(str(\"Tujuan:\"))\n",
    "#solusi = AStar(g2, From, To)\n",
    "solusi2, gScore = AStarV2(g2, From, To, nodeCoordinate)\n",
    "\n",
    "\n",
    "#print(\"Solusi A* V1: \", solusi)\n",
    "\n",
    "print(\"Solusi A* V2: \", solusi2)\n",
    "print(\"Jarak tempuh: \", gScore[g2.nodes.index(To)])\n",
    "\n",
    "#Koordinat lokasi dari file eksternal\n",
    "coordinates = []  \n",
    "for i in (nodeCoordinate):\n",
    "    coordinates.append(i)\n",
    "\n",
    "name = []\n",
    "for i in (g2.nodes):\n",
    "    name.append(i)\n",
    "\n",
    "latitude = []\n",
    "longitude = []\n",
    "for i in range(len(coordinates)):\n",
    "    latitude.append(coordinates[i][0])\n",
    "    longitude.append(coordinates[i][1])\n",
    "\n",
    "#Koordinat jalur shortest path\n",
    "mapHasil = []\n",
    "for i in range (len(solusi2)):\n",
    "    mapHasil.append(nodeCoordinate[SearchIdxNode(solusi2[i], g2)])\n",
    "      \n",
    "\n",
    "visualisasiMap = folium.Map(location=coordinates[0], zoom_start=16)\n",
    "for index,lat in enumerate(latitude):\n",
    "    folium.Marker([lat,\n",
    "    longitude[index]],\n",
    "    popup=('{} \\n'.format(name[index])),\n",
    "    icon = folium.Icon(color='blue'), tooltip=name[index]).add_to(visualisasiMap)\n",
    "    #Buat Ant Path dari jalur yang ditempuh\n",
    "    #plugins.AntPath(locations=mapHasil,weight=5, color = \"green\").add_to(visualisasiMap)"
   ]
  },
  {
   "cell_type": "code",
   "execution_count": 8,
   "metadata": {},
   "outputs": [
    {
     "name": "stderr",
     "output_type": "stream",
     "text": [
      "C:\\Users\\wilso\\Anaconda3\\lib\\site-packages\\networkx\\drawing\\nx_pylab.py:579: MatplotlibDeprecationWarning: \n",
      "The iterable function was deprecated in Matplotlib 3.1 and will be removed in 3.3. Use np.iterable instead.\n",
      "  if not cb.iterable(width):\n",
      "C:\\Users\\wilso\\Anaconda3\\lib\\site-packages\\networkx\\drawing\\nx_pylab.py:585: MatplotlibDeprecationWarning: \n",
      "The iterable function was deprecated in Matplotlib 3.1 and will be removed in 3.3. Use np.iterable instead.\n",
      "  and cb.iterable(edge_color) \\\n"
     ]
    },
    {
     "data": {
      "image/png": "[encoded data removed]",
      "text/plain": [
       "<Figure size 432x288 with 1 Axes>"
      ]
     },
     "metadata": {},
     "output_type": "display_data"
    }
   ],
   "source": [
    "# Visualizing the graph with weighted edges as distance between two nodees\n",
    "visualize_graph(g2, solusi2)"
   ]
  },
  {
   "cell_type": "code",
   "execution_count": 15,
   "metadata": {},
   "outputs": [
    {
     "data": {
      "text/html": [
       "<div style=\"width:100%;\"><div style=\"position:relative;width:100%;height:0;padding-bottom:60%;\"><span style=\"color:#565656\">Make this Notebook Trusted to load map: File -> Trust Notebook</span><iframe src=\"about:blank\" style=\"position:absolute;width:100%;height:100%;left:0;top:0;border:none !important;\" data-html=%3C%21DOCTYPE%20html%3E%0A%3Chead%3E%20%20%20%20%0A%20%20%20%20%3Cmeta%20http-equiv%3D%22content-type%22%20content%3D%22text/html%3B%20charset%3DUTF-8%22%20/%3E%0A%20%20%20%20%0A%20%20%20%20%20%20%20%20%3Cscript%3E%0A%20%20%20%20%20%20%20%20%20%20%20%20L_NO_TOUCH%20%3D%20false%3B%0A%20%20%20%20%20%20%20%20%20%20%20%20L_DISABLE_3D%20%3D%20false%3B%0A%20%20%20%20%20%20%20%20%3C/script%3E%0A%20%20%20%20%0A%20%20%20%20%3Cstyle%3Ehtml%2C%20body%20%7Bwidth%3A%20100%25%3Bheight%3A%20100%25%3Bmargin%3A%200%3Bpadding%3A%200%3B%7D%3C/style%3E%0A%20%20%20%20%3Cstyle%3E%23map%20%7Bposition%3Aabsolute%3Btop%3A0%3Bbottom%3A0%3Bright%3A0%3Bleft%3A0%3B%7D%3C/style%3E%0A%20%20%20%20%3Cscript%20src%3D%22https%3A//cdn.jsdelivr.net/npm/leaflet%401.6.0/dist/leaflet.js%22%3E%3C/script%3E%0A%20%20%20%20%3Cscript%20src%3D%22https%3A//code.jquery.com/jquery-1.12.4.min.js%22%3E%3C/script%3E%0A%20%20%20%20%3Cscript%20src%3D%22https%3A//maxcdn.bootstrapcdn.com/bootstrap/3.2.0/js/bootstrap.min.js%22%3E%3C/script%3E%0A%20%20%20%20%3Cscript%20src%3D%22https%3A//cdnjs.cloudflare.com/ajax/libs/Leaflet.awesome-markers/2.0.2/leaflet.awesome-markers.js%22%3E%3C/script%3E%0A%20%20%20%20%3Clink%20rel%3D%22stylesheet%22%20href%3D%22https%3A//cdn.jsdelivr.net/npm/leaflet%401.6.0/dist/leaflet.css%22/%3E%0A%20%20%20%20%3Clink%20rel%3D%22stylesheet%22%20href%3D%22https%3A//maxcdn.bootstrapcdn.com/bootstrap/3.2.0/css/bootstrap.min.css%22/%3E%0A%20%20%20%20%3Clink%20rel%3D%22stylesheet%22%20href%3D%22https%3A//maxcdn.bootstrapcdn.com/bootstrap/3.2.0/css/bootstrap-theme.min.css%22/%3E%0A%20%20%20%20%3Clink%20rel%3D%22stylesheet%22%20href%3D%22https%3A//maxcdn.bootstrapcdn.com/font-awesome/4.6.3/css/font-awesome.min.css%22/%3E%0A%20%20%20%20%3Clink%20rel%3D%22stylesheet%22%20href%3D%22https%3A//cdnjs.cloudflare.com/ajax/libs/Leaflet.awesome-markers/2.0.2/leaflet.awesome-markers.css%22/%3E%0A%20%20%20%20%3Clink%20rel%3D%22stylesheet%22%20href%3D%22https%3A//cdn.jsdelivr.net/gh/python-visualization/folium/folium/templates/leaflet.awesome.rotate.min.css%22/%3E%0A%20%20%20%20%0A%20%20%20%20%20%20%20%20%20%20%20%20%3Cmeta%20name%3D%22viewport%22%20content%3D%22width%3Ddevice-width%2C%0A%20%20%20%20%20%20%20%20%20%20%20%20%20%20%20%20initial-scale%3D1.0%2C%20maximum-scale%3D1.0%2C%20user-scalable%3Dno%22%20/%3E%0A%20%20%20%20%20%20%20%20%20%20%20%20%3Cstyle%3E%0A%20%20%20%20%20%20%20%20%20%20%20%20%20%20%20%20%23map_2e76e8cc47924078b5a7216ccba31bf2%20%7B%0A%20%20%20%20%20%20%20%20%20%20%20%20%20%20%20%20%20%20%20%20position%3A%20relative%3B%0A%20%20%20%20%20%20%20%20%20%20%20%20%20%20%20%20%20%20%20%20width%3A%20100.0%25%3B%0A%20%20%20%20%20%20%20%20%20%20%20%20%20%20%20%20%20%20%20%20height%3A%20100.0%25%3B%0A%20%20%20%20%20%20%20%20%20%20%20%20%20%20%20%20%20%20%20%20left%3A%200.0%25%3B%0A%20%20%20%20%20%20%20%20%20%20%20%20%20%20%20%20%20%20%20%20top%3A%200.0%25%3B%0A%20%20%20%20%20%20%20%20%20%20%20%20%20%20%20%20%7D%0A%20%20%20%20%20%20%20%20%20%20%20%20%3C/style%3E%0A%20%20%20%20%20%20%20%20%0A%3C/head%3E%0A%3Cbody%3E%20%20%20%20%0A%20%20%20%20%0A%20%20%20%20%20%20%20%20%20%20%20%20%3Cdiv%20class%3D%22folium-map%22%20id%3D%22map_2e76e8cc47924078b5a7216ccba31bf2%22%20%3E%3C/div%3E%0A%20%20%20%20%20%20%20%20%0A%3C/body%3E%0A%3Cscript%3E%20%20%20%20%0A%20%20%20%20%0A%20%20%20%20%20%20%20%20%20%20%20%20var%20map_2e76e8cc47924078b5a7216ccba31bf2%20%3D%20L.map%28%0A%20%20%20%20%20%20%20%20%20%20%20%20%20%20%20%20%22map_2e76e8cc47924078b5a7216ccba31bf2%22%2C%0A%20%20%20%20%20%20%20%20%20%20%20%20%20%20%20%20%7B%0A%20%20%20%20%20%20%20%20%20%20%20%20%20%20%20%20%20%20%20%20center%3A%20%5B3.590135%2C%2098.677815%5D%2C%0A%20%20%20%20%20%20%20%20%20%20%20%20%20%20%20%20%20%20%20%20crs%3A%20L.CRS.EPSG3857%2C%0A%20%20%20%20%20%20%20%20%20%20%20%20%20%20%20%20%20%20%20%20zoom%3A%2016%2C%0A%20%20%20%20%20%20%20%20%20%20%20%20%20%20%20%20%20%20%20%20zoomControl%3A%20true%2C%0A%20%20%20%20%20%20%20%20%20%20%20%20%20%20%20%20%20%20%20%20preferCanvas%3A%20false%2C%0A%20%20%20%20%20%20%20%20%20%20%20%20%20%20%20%20%7D%0A%20%20%20%20%20%20%20%20%20%20%20%20%29%3B%0A%0A%20%20%20%20%20%20%20%20%20%20%20%20%0A%0A%20%20%20%20%20%20%20%20%0A%20%20%20%20%0A%20%20%20%20%20%20%20%20%20%20%20%20var%20tile_layer_e82db591e03546d0940dcab2c120c57a%20%3D%20L.tileLayer%28%0A%20%20%20%20%20%20%20%20%20%20%20%20%20%20%20%20%22https%3A//%7Bs%7D.tile.openstreetmap.org/%7Bz%7D/%7Bx%7D/%7By%7D.png%22%2C%0A%20%20%20%20%20%20%20%20%20%20%20%20%20%20%20%20%7B%22attribution%22%3A%20%22Data%20by%20%5Cu0026copy%3B%20%5Cu003ca%20href%3D%5C%22http%3A//openstreetmap.org%5C%22%5Cu003eOpenStreetMap%5Cu003c/a%5Cu003e%2C%20under%20%5Cu003ca%20href%3D%5C%22http%3A//www.openstreetmap.org/copyright%5C%22%5Cu003eODbL%5Cu003c/a%5Cu003e.%22%2C%20%22detectRetina%22%3A%20false%2C%20%22maxNativeZoom%22%3A%2018%2C%20%22maxZoom%22%3A%2018%2C%20%22minZoom%22%3A%200%2C%20%22noWrap%22%3A%20false%2C%20%22opacity%22%3A%201%2C%20%22subdomains%22%3A%20%22abc%22%2C%20%22tms%22%3A%20false%7D%0A%20%20%20%20%20%20%20%20%20%20%20%20%29.addTo%28map_2e76e8cc47924078b5a7216ccba31bf2%29%3B%0A%20%20%20%20%20%20%20%20%0A%20%20%20%20%0A%20%20%20%20%20%20%20%20%20%20%20%20var%20marker_67d37b297e674b689e88bf61a29e142d%20%3D%20L.marker%28%0A%20%20%20%20%20%20%20%20%20%20%20%20%20%20%20%20%5B3.590135%2C%2098.677815%5D%2C%0A%20%20%20%20%20%20%20%20%20%20%20%20%20%20%20%20%7B%7D%0A%20%20%20%20%20%20%20%20%20%20%20%20%29.addTo%28map_2e76e8cc47924078b5a7216ccba31bf2%29%3B%0A%20%20%20%20%20%20%20%20%0A%20%20%20%20%0A%20%20%20%20%20%20%20%20%20%20%20%20var%20icon_504cfc69624a4ed98df979f8b4df7864%20%3D%20L.AwesomeMarkers.icon%28%0A%20%20%20%20%20%20%20%20%20%20%20%20%20%20%20%20%7B%22extraClasses%22%3A%20%22fa-rotate-0%22%2C%20%22icon%22%3A%20%22info-sign%22%2C%20%22iconColor%22%3A%20%22white%22%2C%20%22markerColor%22%3A%20%22blue%22%2C%20%22prefix%22%3A%20%22glyphicon%22%7D%0A%20%20%20%20%20%20%20%20%20%20%20%20%29%3B%0A%20%20%20%20%20%20%20%20%20%20%20%20marker_67d37b297e674b689e88bf61a29e142d.setIcon%28icon_504cfc69624a4ed98df979f8b4df7864%29%3B%0A%20%20%20%20%20%20%20%20%0A%20%20%20%20%0A%20%20%20%20%20%20%20%20var%20popup_cbce2735272340f3a4496f686d7ccf86%20%3D%20L.popup%28%7B%22maxWidth%22%3A%20%22100%25%22%7D%29%3B%0A%0A%20%20%20%20%20%20%20%20%0A%20%20%20%20%20%20%20%20%20%20%20%20var%20html_f2afbe50a81f438fb832cf7663ca5c12%20%3D%20%24%28%60%3Cdiv%20id%3D%22html_f2afbe50a81f438fb832cf7663ca5c12%22%20style%3D%22width%3A%20100.0%25%3B%20height%3A%20100.0%25%3B%22%3ELapanganMerdeka%20%20%3C/div%3E%60%29%5B0%5D%3B%0A%20%20%20%20%20%20%20%20%20%20%20%20popup_cbce2735272340f3a4496f686d7ccf86.setContent%28html_f2afbe50a81f438fb832cf7663ca5c12%29%3B%0A%20%20%20%20%20%20%20%20%0A%0A%20%20%20%20%20%20%20%20marker_67d37b297e674b689e88bf61a29e142d.bindPopup%28popup_cbce2735272340f3a4496f686d7ccf86%29%0A%20%20%20%20%20%20%20%20%3B%0A%0A%20%20%20%20%20%20%20%20%0A%20%20%20%20%0A%20%20%20%20%0A%20%20%20%20%20%20%20%20%20%20%20%20marker_67d37b297e674b689e88bf61a29e142d.bindTooltip%28%0A%20%20%20%20%20%20%20%20%20%20%20%20%20%20%20%20%60%3Cdiv%3E%0A%20%20%20%20%20%20%20%20%20%20%20%20%20%20%20%20%20%20%20%20%20LapanganMerdeka%0A%20%20%20%20%20%20%20%20%20%20%20%20%20%20%20%20%20%3C/div%3E%60%2C%0A%20%20%20%20%20%20%20%20%20%20%20%20%20%20%20%20%7B%22sticky%22%3A%20true%7D%0A%20%20%20%20%20%20%20%20%20%20%20%20%29%3B%0A%20%20%20%20%20%20%20%20%0A%20%20%20%20%0A%20%20%20%20%20%20%20%20%20%20%20%20var%20marker_42c2be23307d482d9e80aba6fc494f6d%20%3D%20L.marker%28%0A%20%20%20%20%20%20%20%20%20%20%20%20%20%20%20%20%5B3.59039%2C%2098.677569%5D%2C%0A%20%20%20%20%20%20%20%20%20%20%20%20%20%20%20%20%7B%7D%0A%20%20%20%20%20%20%20%20%20%20%20%20%29.addTo%28map_2e76e8cc47924078b5a7216ccba31bf2%29%3B%0A%20%20%20%20%20%20%20%20%0A%20%20%20%20%0A%20%20%20%20%20%20%20%20%20%20%20%20var%20icon_f291d5c94ed74d31bd671b73f4f683dc%20%3D%20L.AwesomeMarkers.icon%28%0A%20%20%20%20%20%20%20%20%20%20%20%20%20%20%20%20%7B%22extraClasses%22%3A%20%22fa-rotate-0%22%2C%20%22icon%22%3A%20%22info-sign%22%2C%20%22iconColor%22%3A%20%22white%22%2C%20%22markerColor%22%3A%20%22blue%22%2C%20%22prefix%22%3A%20%22glyphicon%22%7D%0A%20%20%20%20%20%20%20%20%20%20%20%20%29%3B%0A%20%20%20%20%20%20%20%20%20%20%20%20marker_42c2be23307d482d9e80aba6fc494f6d.setIcon%28icon_f291d5c94ed74d31bd671b73f4f683dc%29%3B%0A%20%20%20%20%20%20%20%20%0A%20%20%20%20%0A%20%20%20%20%20%20%20%20var%20popup_bb7973b691f04f68baa903c897621799%20%3D%20L.popup%28%7B%22maxWidth%22%3A%20%22100%25%22%7D%29%3B%0A%0A%20%20%20%20%20%20%20%20%0A%20%20%20%20%20%20%20%20%20%20%20%20var%20html_cda6d5ad82eb472ab3748b3d1b2837d3%20%3D%20%24%28%60%3Cdiv%20id%3D%22html_cda6d5ad82eb472ab3748b3d1b2837d3%22%20style%3D%22width%3A%20100.0%25%3B%20height%3A%20100.0%25%3B%22%3EBalaiKota%20%20%3C/div%3E%60%29%5B0%5D%3B%0A%20%20%20%20%20%20%20%20%20%20%20%20popup_bb7973b691f04f68baa903c897621799.setContent%28html_cda6d5ad82eb472ab3748b3d1b2837d3%29%3B%0A%20%20%20%20%20%20%20%20%0A%0A%20%20%20%20%20%20%20%20marker_42c2be23307d482d9e80aba6fc494f6d.bindPopup%28popup_bb7973b691f04f68baa903c897621799%29%0A%20%20%20%20%20%20%20%20%3B%0A%0A%20%20%20%20%20%20%20%20%0A%20%20%20%20%0A%20%20%20%20%0A%20%20%20%20%20%20%20%20%20%20%20%20marker_42c2be23307d482d9e80aba6fc494f6d.bindTooltip%28%0A%20%20%20%20%20%20%20%20%20%20%20%20%20%20%20%20%60%3Cdiv%3E%0A%20%20%20%20%20%20%20%20%20%20%20%20%20%20%20%20%20%20%20%20%20BalaiKota%0A%20%20%20%20%20%20%20%20%20%20%20%20%20%20%20%20%20%3C/div%3E%60%2C%0A%20%20%20%20%20%20%20%20%20%20%20%20%20%20%20%20%7B%22sticky%22%3A%20true%7D%0A%20%20%20%20%20%20%20%20%20%20%20%20%29%3B%0A%20%20%20%20%20%20%20%20%0A%20%20%20%20%0A%20%20%20%20%20%20%20%20%20%20%20%20var%20marker_4b357c759d2a4e77be4f6f9eb6a4ce73%20%3D%20L.marker%28%0A%20%20%20%20%20%20%20%20%20%20%20%20%20%20%20%20%5B3.591422%2C%2098.677341%5D%2C%0A%20%20%20%20%20%20%20%20%20%20%20%20%20%20%20%20%7B%7D%0A%20%20%20%20%20%20%20%20%20%20%20%20%29.addTo%28map_2e76e8cc47924078b5a7216ccba31bf2%29%3B%0A%20%20%20%20%20%20%20%20%0A%20%20%20%20%0A%20%20%20%20%20%20%20%20%20%20%20%20var%20icon_9bcd75683bde47d6b2303fc4081b2974%20%3D%20L.AwesomeMarkers.icon%28%0A%20%20%20%20%20%20%20%20%20%20%20%20%20%20%20%20%7B%22extraClasses%22%3A%20%22fa-rotate-0%22%2C%20%22icon%22%3A%20%22info-sign%22%2C%20%22iconColor%22%3A%20%22white%22%2C%20%22markerColor%22%3A%20%22blue%22%2C%20%22prefix%22%3A%20%22glyphicon%22%7D%0A%20%20%20%20%20%20%20%20%20%20%20%20%29%3B%0A%20%20%20%20%20%20%20%20%20%20%20%20marker_4b357c759d2a4e77be4f6f9eb6a4ce73.setIcon%28icon_9bcd75683bde47d6b2303fc4081b2974%29%3B%0A%20%20%20%20%20%20%20%20%0A%20%20%20%20%0A%20%20%20%20%20%20%20%20var%20popup_7cd96c7f549840beae1c4294d396e2a3%20%3D%20L.popup%28%7B%22maxWidth%22%3A%20%22100%25%22%7D%29%3B%0A%0A%20%20%20%20%20%20%20%20%0A%20%20%20%20%20%20%20%20%20%20%20%20var%20html_a73d6b797fc441478d6b1e8588693d0e%20%3D%20%24%28%60%3Cdiv%20id%3D%22html_a73d6b797fc441478d6b1e8588693d0e%22%20style%3D%22width%3A%20100.0%25%3B%20height%3A%20100.0%25%3B%22%3ETuguKM0%20%20%3C/div%3E%60%29%5B0%5D%3B%0A%20%20%20%20%20%20%20%20%20%20%20%20popup_7cd96c7f549840beae1c4294d396e2a3.setContent%28html_a73d6b797fc441478d6b1e8588693d0e%29%3B%0A%20%20%20%20%20%20%20%20%0A%0A%20%20%20%20%20%20%20%20marker_4b357c759d2a4e77be4f6f9eb6a4ce73.bindPopup%28popup_7cd96c7f549840beae1c4294d396e2a3%29%0A%20%20%20%20%20%20%20%20%3B%0A%0A%20%20%20%20%20%20%20%20%0A%20%20%20%20%0A%20%20%20%20%0A%20%20%20%20%20%20%20%20%20%20%20%20marker_4b357c759d2a4e77be4f6f9eb6a4ce73.bindTooltip%28%0A%20%20%20%20%20%20%20%20%20%20%20%20%20%20%20%20%60%3Cdiv%3E%0A%20%20%20%20%20%20%20%20%20%20%20%20%20%20%20%20%20%20%20%20%20TuguKM0%0A%20%20%20%20%20%20%20%20%20%20%20%20%20%20%20%20%20%3C/div%3E%60%2C%0A%20%20%20%20%20%20%20%20%20%20%20%20%20%20%20%20%7B%22sticky%22%3A%20true%7D%0A%20%20%20%20%20%20%20%20%20%20%20%20%29%3B%0A%20%20%20%20%20%20%20%20%0A%20%20%20%20%0A%20%20%20%20%20%20%20%20%20%20%20%20var%20marker_d1954cd1cac24910b5614c9ab51268c6%20%3D%20L.marker%28%0A%20%20%20%20%20%20%20%20%20%20%20%20%20%20%20%20%5B3.592004%2C%2098.679166%5D%2C%0A%20%20%20%20%20%20%20%20%20%20%20%20%20%20%20%20%7B%7D%0A%20%20%20%20%20%20%20%20%20%20%20%20%29.addTo%28map_2e76e8cc47924078b5a7216ccba31bf2%29%3B%0A%20%20%20%20%20%20%20%20%0A%20%20%20%20%0A%20%20%20%20%20%20%20%20%20%20%20%20var%20icon_9b7df88c378e4d249708d461d5ab10be%20%3D%20L.AwesomeMarkers.icon%28%0A%20%20%20%20%20%20%20%20%20%20%20%20%20%20%20%20%7B%22extraClasses%22%3A%20%22fa-rotate-0%22%2C%20%22icon%22%3A%20%22info-sign%22%2C%20%22iconColor%22%3A%20%22white%22%2C%20%22markerColor%22%3A%20%22blue%22%2C%20%22prefix%22%3A%20%22glyphicon%22%7D%0A%20%20%20%20%20%20%20%20%20%20%20%20%29%3B%0A%20%20%20%20%20%20%20%20%20%20%20%20marker_d1954cd1cac24910b5614c9ab51268c6.setIcon%28icon_9b7df88c378e4d249708d461d5ab10be%29%3B%0A%20%20%20%20%20%20%20%20%0A%20%20%20%20%0A%20%20%20%20%20%20%20%20var%20popup_c0023aa939e447e49a49b3d368e323c5%20%3D%20L.popup%28%7B%22maxWidth%22%3A%20%22100%25%22%7D%29%3B%0A%0A%20%20%20%20%20%20%20%20%0A%20%20%20%20%20%20%20%20%20%20%20%20var%20html_5e3e77bd967f4db4b385d3214bc8c683%20%3D%20%24%28%60%3Cdiv%20id%3D%22html_5e3e77bd967f4db4b385d3214bc8c683%22%20style%3D%22width%3A%20100.0%25%3B%20height%3A%20100.0%25%3B%22%3ESimpanganKeretaApi%20%20%3C/div%3E%60%29%5B0%5D%3B%0A%20%20%20%20%20%20%20%20%20%20%20%20popup_c0023aa939e447e49a49b3d368e323c5.setContent%28html_5e3e77bd967f4db4b385d3214bc8c683%29%3B%0A%20%20%20%20%20%20%20%20%0A%0A%20%20%20%20%20%20%20%20marker_d1954cd1cac24910b5614c9ab51268c6.bindPopup%28popup_c0023aa939e447e49a49b3d368e323c5%29%0A%20%20%20%20%20%20%20%20%3B%0A%0A%20%20%20%20%20%20%20%20%0A%20%20%20%20%0A%20%20%20%20%0A%20%20%20%20%20%20%20%20%20%20%20%20marker_d1954cd1cac24910b5614c9ab51268c6.bindTooltip%28%0A%20%20%20%20%20%20%20%20%20%20%20%20%20%20%20%20%60%3Cdiv%3E%0A%20%20%20%20%20%20%20%20%20%20%20%20%20%20%20%20%20%20%20%20%20SimpanganKeretaApi%0A%20%20%20%20%20%20%20%20%20%20%20%20%20%20%20%20%20%3C/div%3E%60%2C%0A%20%20%20%20%20%20%20%20%20%20%20%20%20%20%20%20%7B%22sticky%22%3A%20true%7D%0A%20%20%20%20%20%20%20%20%20%20%20%20%29%3B%0A%20%20%20%20%20%20%20%20%0A%20%20%20%20%0A%20%20%20%20%20%20%20%20%20%20%20%20var%20marker_f6d541febffc43e3a44f172308531541%20%3D%20L.marker%28%0A%20%20%20%20%20%20%20%20%20%20%20%20%20%20%20%20%5B3.590604%2C%2098.679632%5D%2C%0A%20%20%20%20%20%20%20%20%20%20%20%20%20%20%20%20%7B%7D%0A%20%20%20%20%20%20%20%20%20%20%20%20%29.addTo%28map_2e76e8cc47924078b5a7216ccba31bf2%29%3B%0A%20%20%20%20%20%20%20%20%0A%20%20%20%20%0A%20%20%20%20%20%20%20%20%20%20%20%20var%20icon_fce8a2f547bb44f88a727483bb2387ed%20%3D%20L.AwesomeMarkers.icon%28%0A%20%20%20%20%20%20%20%20%20%20%20%20%20%20%20%20%7B%22extraClasses%22%3A%20%22fa-rotate-0%22%2C%20%22icon%22%3A%20%22info-sign%22%2C%20%22iconColor%22%3A%20%22white%22%2C%20%22markerColor%22%3A%20%22blue%22%2C%20%22prefix%22%3A%20%22glyphicon%22%7D%0A%20%20%20%20%20%20%20%20%20%20%20%20%29%3B%0A%20%20%20%20%20%20%20%20%20%20%20%20marker_f6d541febffc43e3a44f172308531541.setIcon%28icon_fce8a2f547bb44f88a727483bb2387ed%29%3B%0A%20%20%20%20%20%20%20%20%0A%20%20%20%20%0A%20%20%20%20%20%20%20%20var%20popup_f28da05586ff470d8241c9d11daa4138%20%3D%20L.popup%28%7B%22maxWidth%22%3A%20%22100%25%22%7D%29%3B%0A%0A%20%20%20%20%20%20%20%20%0A%20%20%20%20%20%20%20%20%20%20%20%20var%20html_2752e17981944844afc83ca465c71937%20%3D%20%24%28%60%3Cdiv%20id%3D%22html_2752e17981944844afc83ca465c71937%22%20style%3D%22width%3A%20100.0%25%3B%20height%3A%20100.0%25%3B%22%3EStasiunMedan%20%20%3C/div%3E%60%29%5B0%5D%3B%0A%20%20%20%20%20%20%20%20%20%20%20%20popup_f28da05586ff470d8241c9d11daa4138.setContent%28html_2752e17981944844afc83ca465c71937%29%3B%0A%20%20%20%20%20%20%20%20%0A%0A%20%20%20%20%20%20%20%20marker_f6d541febffc43e3a44f172308531541.bindPopup%28popup_f28da05586ff470d8241c9d11daa4138%29%0A%20%20%20%20%20%20%20%20%3B%0A%0A%20%20%20%20%20%20%20%20%0A%20%20%20%20%0A%20%20%20%20%0A%20%20%20%20%20%20%20%20%20%20%20%20marker_f6d541febffc43e3a44f172308531541.bindTooltip%28%0A%20%20%20%20%20%20%20%20%20%20%20%20%20%20%20%20%60%3Cdiv%3E%0A%20%20%20%20%20%20%20%20%20%20%20%20%20%20%20%20%20%20%20%20%20StasiunMedan%0A%20%20%20%20%20%20%20%20%20%20%20%20%20%20%20%20%20%3C/div%3E%60%2C%0A%20%20%20%20%20%20%20%20%20%20%20%20%20%20%20%20%7B%22sticky%22%3A%20true%7D%0A%20%20%20%20%20%20%20%20%20%20%20%20%29%3B%0A%20%20%20%20%20%20%20%20%0A%20%20%20%20%0A%20%20%20%20%20%20%20%20%20%20%20%20var%20marker_5de444830805489d820ffa1245f427a7%20%3D%20L.marker%28%0A%20%20%20%20%20%20%20%20%20%20%20%20%20%20%20%20%5B3.589701%2C%2098.679933%5D%2C%0A%20%20%20%20%20%20%20%20%20%20%20%20%20%20%20%20%7B%7D%0A%20%20%20%20%20%20%20%20%20%20%20%20%29.addTo%28map_2e76e8cc47924078b5a7216ccba31bf2%29%3B%0A%20%20%20%20%20%20%20%20%0A%20%20%20%20%0A%20%20%20%20%20%20%20%20%20%20%20%20var%20icon_b31a023b1dd640b29e9bfe9d69cd52c8%20%3D%20L.AwesomeMarkers.icon%28%0A%20%20%20%20%20%20%20%20%20%20%20%20%20%20%20%20%7B%22extraClasses%22%3A%20%22fa-rotate-0%22%2C%20%22icon%22%3A%20%22info-sign%22%2C%20%22iconColor%22%3A%20%22white%22%2C%20%22markerColor%22%3A%20%22blue%22%2C%20%22prefix%22%3A%20%22glyphicon%22%7D%0A%20%20%20%20%20%20%20%20%20%20%20%20%29%3B%0A%20%20%20%20%20%20%20%20%20%20%20%20marker_5de444830805489d820ffa1245f427a7.setIcon%28icon_b31a023b1dd640b29e9bfe9d69cd52c8%29%3B%0A%20%20%20%20%20%20%20%20%0A%20%20%20%20%0A%20%20%20%20%20%20%20%20var%20popup_f925c730da964bb0a83fec4bdd8a3c8d%20%3D%20L.popup%28%7B%22maxWidth%22%3A%20%22100%25%22%7D%29%3B%0A%0A%20%20%20%20%20%20%20%20%0A%20%20%20%20%20%20%20%20%20%20%20%20var%20html_0d884ea522fd4e5aa31824e2b8331af7%20%3D%20%24%28%60%3Cdiv%20id%3D%22html_0d884ea522fd4e5aa31824e2b8331af7%22%20style%3D%22width%3A%20100.0%25%3B%20height%3A%20100.0%25%3B%22%3ESimpanganTitiGantung%20%20%3C/div%3E%60%29%5B0%5D%3B%0A%20%20%20%20%20%20%20%20%20%20%20%20popup_f925c730da964bb0a83fec4bdd8a3c8d.setContent%28html_0d884ea522fd4e5aa31824e2b8331af7%29%3B%0A%20%20%20%20%20%20%20%20%0A%0A%20%20%20%20%20%20%20%20marker_5de444830805489d820ffa1245f427a7.bindPopup%28popup_f925c730da964bb0a83fec4bdd8a3c8d%29%0A%20%20%20%20%20%20%20%20%3B%0A%0A%20%20%20%20%20%20%20%20%0A%20%20%20%20%0A%20%20%20%20%0A%20%20%20%20%20%20%20%20%20%20%20%20marker_5de444830805489d820ffa1245f427a7.bindTooltip%28%0A%20%20%20%20%20%20%20%20%20%20%20%20%20%20%20%20%60%3Cdiv%3E%0A%20%20%20%20%20%20%20%20%20%20%20%20%20%20%20%20%20%20%20%20%20SimpanganTitiGantung%0A%20%20%20%20%20%20%20%20%20%20%20%20%20%20%20%20%20%3C/div%3E%60%2C%0A%20%20%20%20%20%20%20%20%20%20%20%20%20%20%20%20%7B%22sticky%22%3A%20true%7D%0A%20%20%20%20%20%20%20%20%20%20%20%20%29%3B%0A%20%20%20%20%20%20%20%20%0A%20%20%20%20%0A%20%20%20%20%20%20%20%20%20%20%20%20var%20marker_1662e4d70c5944a998ed760e18f3955f%20%3D%20L.marker%28%0A%20%20%20%20%20%20%20%20%20%20%20%20%20%20%20%20%5B3.588809%2C%2098.680455%5D%2C%0A%20%20%20%20%20%20%20%20%20%20%20%20%20%20%20%20%7B%7D%0A%20%20%20%20%20%20%20%20%20%20%20%20%29.addTo%28map_2e76e8cc47924078b5a7216ccba31bf2%29%3B%0A%20%20%20%20%20%20%20%20%0A%20%20%20%20%0A%20%20%20%20%20%20%20%20%20%20%20%20var%20icon_5354f5ce5b784e9689464e160299ed9d%20%3D%20L.AwesomeMarkers.icon%28%0A%20%20%20%20%20%20%20%20%20%20%20%20%20%20%20%20%7B%22extraClasses%22%3A%20%22fa-rotate-0%22%2C%20%22icon%22%3A%20%22info-sign%22%2C%20%22iconColor%22%3A%20%22white%22%2C%20%22markerColor%22%3A%20%22blue%22%2C%20%22prefix%22%3A%20%22glyphicon%22%7D%0A%20%20%20%20%20%20%20%20%20%20%20%20%29%3B%0A%20%20%20%20%20%20%20%20%20%20%20%20marker_1662e4d70c5944a998ed760e18f3955f.setIcon%28icon_5354f5ce5b784e9689464e160299ed9d%29%3B%0A%20%20%20%20%20%20%20%20%0A%20%20%20%20%0A%20%20%20%20%20%20%20%20var%20popup_535cdddad651487abeb95d9f65bc8505%20%3D%20L.popup%28%7B%22maxWidth%22%3A%20%22100%25%22%7D%29%3B%0A%0A%20%20%20%20%20%20%20%20%0A%20%20%20%20%20%20%20%20%20%20%20%20var%20html_cbb3acb5a92a4c61a0b2b7b8fff9048c%20%3D%20%24%28%60%3Cdiv%20id%3D%22html_cbb3acb5a92a4c61a0b2b7b8fff9048c%22%20style%3D%22width%3A%20100.0%25%3B%20height%3A%20100.0%25%3B%22%3EPajakIkanLama%20%20%3C/div%3E%60%29%5B0%5D%3B%0A%20%20%20%20%20%20%20%20%20%20%20%20popup_535cdddad651487abeb95d9f65bc8505.setContent%28html_cbb3acb5a92a4c61a0b2b7b8fff9048c%29%3B%0A%20%20%20%20%20%20%20%20%0A%0A%20%20%20%20%20%20%20%20marker_1662e4d70c5944a998ed760e18f3955f.bindPopup%28popup_535cdddad651487abeb95d9f65bc8505%29%0A%20%20%20%20%20%20%20%20%3B%0A%0A%20%20%20%20%20%20%20%20%0A%20%20%20%20%0A%20%20%20%20%0A%20%20%20%20%20%20%20%20%20%20%20%20marker_1662e4d70c5944a998ed760e18f3955f.bindTooltip%28%0A%20%20%20%20%20%20%20%20%20%20%20%20%20%20%20%20%60%3Cdiv%3E%0A%20%20%20%20%20%20%20%20%20%20%20%20%20%20%20%20%20%20%20%20%20PajakIkanLama%0A%20%20%20%20%20%20%20%20%20%20%20%20%20%20%20%20%20%3C/div%3E%60%2C%0A%20%20%20%20%20%20%20%20%20%20%20%20%20%20%20%20%7B%22sticky%22%3A%20true%7D%0A%20%20%20%20%20%20%20%20%20%20%20%20%29%3B%0A%20%20%20%20%20%20%20%20%0A%20%20%20%20%0A%20%20%20%20%20%20%20%20%20%20%20%20var%20marker_ea22016e025b458bb9aa3799e37a41ca%20%3D%20L.marker%28%0A%20%20%20%20%20%20%20%20%20%20%20%20%20%20%20%20%5B3.585338%2C%2098.681876%5D%2C%0A%20%20%20%20%20%20%20%20%20%20%20%20%20%20%20%20%7B%7D%0A%20%20%20%20%20%20%20%20%20%20%20%20%29.addTo%28map_2e76e8cc47924078b5a7216ccba31bf2%29%3B%0A%20%20%20%20%20%20%20%20%0A%20%20%20%20%0A%20%20%20%20%20%20%20%20%20%20%20%20var%20icon_1ceb60abbfde4f588cd1a280d38f4b66%20%3D%20L.AwesomeMarkers.icon%28%0A%20%20%20%20%20%20%20%20%20%20%20%20%20%20%20%20%7B%22extraClasses%22%3A%20%22fa-rotate-0%22%2C%20%22icon%22%3A%20%22info-sign%22%2C%20%22iconColor%22%3A%20%22white%22%2C%20%22markerColor%22%3A%20%22blue%22%2C%20%22prefix%22%3A%20%22glyphicon%22%7D%0A%20%20%20%20%20%20%20%20%20%20%20%20%29%3B%0A%20%20%20%20%20%20%20%20%20%20%20%20marker_ea22016e025b458bb9aa3799e37a41ca.setIcon%28icon_1ceb60abbfde4f588cd1a280d38f4b66%29%3B%0A%20%20%20%20%20%20%20%20%0A%20%20%20%20%0A%20%20%20%20%20%20%20%20var%20popup_9566355bde2244bfb48333bebface988%20%3D%20L.popup%28%7B%22maxWidth%22%3A%20%22100%25%22%7D%29%3B%0A%0A%20%20%20%20%20%20%20%20%0A%20%20%20%20%20%20%20%20%20%20%20%20var%20html_f56ee368758c478fb29090880e5df9a1%20%3D%20%24%28%60%3Cdiv%20id%3D%22html_f56ee368758c478fb29090880e5df9a1%22%20style%3D%22width%3A%20100.0%25%3B%20height%3A%20100.0%25%3B%22%3ESimpanganPalangMerah%20%20%3C/div%3E%60%29%5B0%5D%3B%0A%20%20%20%20%20%20%20%20%20%20%20%20popup_9566355bde2244bfb48333bebface988.setContent%28html_f56ee368758c478fb29090880e5df9a1%29%3B%0A%20%20%20%20%20%20%20%20%0A%0A%20%20%20%20%20%20%20%20marker_ea22016e025b458bb9aa3799e37a41ca.bindPopup%28popup_9566355bde2244bfb48333bebface988%29%0A%20%20%20%20%20%20%20%20%3B%0A%0A%20%20%20%20%20%20%20%20%0A%20%20%20%20%0A%20%20%20%20%0A%20%20%20%20%20%20%20%20%20%20%20%20marker_ea22016e025b458bb9aa3799e37a41ca.bindTooltip%28%0A%20%20%20%20%20%20%20%20%20%20%20%20%20%20%20%20%60%3Cdiv%3E%0A%20%20%20%20%20%20%20%20%20%20%20%20%20%20%20%20%20%20%20%20%20SimpanganPalangMerah%0A%20%20%20%20%20%20%20%20%20%20%20%20%20%20%20%20%20%3C/div%3E%60%2C%0A%20%20%20%20%20%20%20%20%20%20%20%20%20%20%20%20%7B%22sticky%22%3A%20true%7D%0A%20%20%20%20%20%20%20%20%20%20%20%20%29%3B%0A%20%20%20%20%20%20%20%20%0A%20%20%20%20%0A%20%20%20%20%20%20%20%20%20%20%20%20var%20marker_969e9ac7c1e240c1ba67739cb8ed8a60%20%3D%20L.marker%28%0A%20%20%20%20%20%20%20%20%20%20%20%20%20%20%20%20%5B3.584673%2C%2098.680642%5D%2C%0A%20%20%20%20%20%20%20%20%20%20%20%20%20%20%20%20%7B%7D%0A%20%20%20%20%20%20%20%20%20%20%20%20%29.addTo%28map_2e76e8cc47924078b5a7216ccba31bf2%29%3B%0A%20%20%20%20%20%20%20%20%0A%20%20%20%20%0A%20%20%20%20%20%20%20%20%20%20%20%20var%20icon_cb7cc492cc124f64bcf10f4388d378fb%20%3D%20L.AwesomeMarkers.icon%28%0A%20%20%20%20%20%20%20%20%20%20%20%20%20%20%20%20%7B%22extraClasses%22%3A%20%22fa-rotate-0%22%2C%20%22icon%22%3A%20%22info-sign%22%2C%20%22iconColor%22%3A%20%22white%22%2C%20%22markerColor%22%3A%20%22blue%22%2C%20%22prefix%22%3A%20%22glyphicon%22%7D%0A%20%20%20%20%20%20%20%20%20%20%20%20%29%3B%0A%20%20%20%20%20%20%20%20%20%20%20%20marker_969e9ac7c1e240c1ba67739cb8ed8a60.setIcon%28icon_cb7cc492cc124f64bcf10f4388d378fb%29%3B%0A%20%20%20%20%20%20%20%20%0A%20%20%20%20%0A%20%20%20%20%20%20%20%20var%20popup_8eb00dddefeb488e9a9baf8688be3584%20%3D%20L.popup%28%7B%22maxWidth%22%3A%20%22100%25%22%7D%29%3B%0A%0A%20%20%20%20%20%20%20%20%0A%20%20%20%20%20%20%20%20%20%20%20%20var%20html_d534fbbdb7ed4c05a3a6654704662c1f%20%3D%20%24%28%60%3Cdiv%20id%3D%22html_d534fbbdb7ed4c05a3a6654704662c1f%22%20style%3D%22width%3A%20100.0%25%3B%20height%3A%20100.0%25%3B%22%3ESimpanganPemuda%20%20%3C/div%3E%60%29%5B0%5D%3B%0A%20%20%20%20%20%20%20%20%20%20%20%20popup_8eb00dddefeb488e9a9baf8688be3584.setContent%28html_d534fbbdb7ed4c05a3a6654704662c1f%29%3B%0A%20%20%20%20%20%20%20%20%0A%0A%20%20%20%20%20%20%20%20marker_969e9ac7c1e240c1ba67739cb8ed8a60.bindPopup%28popup_8eb00dddefeb488e9a9baf8688be3584%29%0A%20%20%20%20%20%20%20%20%3B%0A%0A%20%20%20%20%20%20%20%20%0A%20%20%20%20%0A%20%20%20%20%0A%20%20%20%20%20%20%20%20%20%20%20%20marker_969e9ac7c1e240c1ba67739cb8ed8a60.bindTooltip%28%0A%20%20%20%20%20%20%20%20%20%20%20%20%20%20%20%20%60%3Cdiv%3E%0A%20%20%20%20%20%20%20%20%20%20%20%20%20%20%20%20%20%20%20%20%20SimpanganPemuda%0A%20%20%20%20%20%20%20%20%20%20%20%20%20%20%20%20%20%3C/div%3E%60%2C%0A%20%20%20%20%20%20%20%20%20%20%20%20%20%20%20%20%7B%22sticky%22%3A%20true%7D%0A%20%20%20%20%20%20%20%20%20%20%20%20%29%3B%0A%20%20%20%20%20%20%20%20%0A%20%20%20%20%0A%20%20%20%20%20%20%20%20%20%20%20%20var%20marker_6e2f205da9084471a592ebdbbd8e7cb1%20%3D%20L.marker%28%0A%20%20%20%20%20%20%20%20%20%20%20%20%20%20%20%20%5B3.585412%2C%2098.680209%5D%2C%0A%20%20%20%20%20%20%20%20%20%20%20%20%20%20%20%20%7B%7D%0A%20%20%20%20%20%20%20%20%20%20%20%20%29.addTo%28map_2e76e8cc47924078b5a7216ccba31bf2%29%3B%0A%20%20%20%20%20%20%20%20%0A%20%20%20%20%0A%20%20%20%20%20%20%20%20%20%20%20%20var%20icon_9a4443139c304990999cc31b877da37a%20%3D%20L.AwesomeMarkers.icon%28%0A%20%20%20%20%20%20%20%20%20%20%20%20%20%20%20%20%7B%22extraClasses%22%3A%20%22fa-rotate-0%22%2C%20%22icon%22%3A%20%22info-sign%22%2C%20%22iconColor%22%3A%20%22white%22%2C%20%22markerColor%22%3A%20%22blue%22%2C%20%22prefix%22%3A%20%22glyphicon%22%7D%0A%20%20%20%20%20%20%20%20%20%20%20%20%29%3B%0A%20%20%20%20%20%20%20%20%20%20%20%20marker_6e2f205da9084471a592ebdbbd8e7cb1.setIcon%28icon_9a4443139c304990999cc31b877da37a%29%3B%0A%20%20%20%20%20%20%20%20%0A%20%20%20%20%0A%20%20%20%20%20%20%20%20var%20popup_eaf395c1b8eb4918a54306ff1abb8382%20%3D%20L.popup%28%7B%22maxWidth%22%3A%20%22100%25%22%7D%29%3B%0A%0A%20%20%20%20%20%20%20%20%0A%20%20%20%20%20%20%20%20%20%20%20%20var%20html_ef5243d218a44fad9b5f88ea7c2bdeee%20%3D%20%24%28%60%3Cdiv%20id%3D%22html_ef5243d218a44fad9b5f88ea7c2bdeee%22%20style%3D%22width%3A%20100.0%25%3B%20height%3A%20100.0%25%3B%22%3ETjongAFie%20%20%3C/div%3E%60%29%5B0%5D%3B%0A%20%20%20%20%20%20%20%20%20%20%20%20popup_eaf395c1b8eb4918a54306ff1abb8382.setContent%28html_ef5243d218a44fad9b5f88ea7c2bdeee%29%3B%0A%20%20%20%20%20%20%20%20%0A%0A%20%20%20%20%20%20%20%20marker_6e2f205da9084471a592ebdbbd8e7cb1.bindPopup%28popup_eaf395c1b8eb4918a54306ff1abb8382%29%0A%20%20%20%20%20%20%20%20%3B%0A%0A%20%20%20%20%20%20%20%20%0A%20%20%20%20%0A%20%20%20%20%0A%20%20%20%20%20%20%20%20%20%20%20%20marker_6e2f205da9084471a592ebdbbd8e7cb1.bindTooltip%28%0A%20%20%20%20%20%20%20%20%20%20%20%20%20%20%20%20%60%3Cdiv%3E%0A%20%20%20%20%20%20%20%20%20%20%20%20%20%20%20%20%20%20%20%20%20TjongAFie%0A%20%20%20%20%20%20%20%20%20%20%20%20%20%20%20%20%20%3C/div%3E%60%2C%0A%20%20%20%20%20%20%20%20%20%20%20%20%20%20%20%20%7B%22sticky%22%3A%20true%7D%0A%20%20%20%20%20%20%20%20%20%20%20%20%29%3B%0A%20%20%20%20%20%20%20%20%0A%20%20%20%20%0A%20%20%20%20%20%20%20%20%20%20%20%20var%20marker_ef48e62323c44084ba01fd2ef60717c6%20%3D%20L.marker%28%0A%20%20%20%20%20%20%20%20%20%20%20%20%20%20%20%20%5B3.588771%2C%2098.678195%5D%2C%0A%20%20%20%20%20%20%20%20%20%20%20%20%20%20%20%20%7B%7D%0A%20%20%20%20%20%20%20%20%20%20%20%20%29.addTo%28map_2e76e8cc47924078b5a7216ccba31bf2%29%3B%0A%20%20%20%20%20%20%20%20%0A%20%20%20%20%0A%20%20%20%20%20%20%20%20%20%20%20%20var%20icon_5b035bec0cd246ef99aa8859c6fbb557%20%3D%20L.AwesomeMarkers.icon%28%0A%20%20%20%20%20%20%20%20%20%20%20%20%20%20%20%20%7B%22extraClasses%22%3A%20%22fa-rotate-0%22%2C%20%22icon%22%3A%20%22info-sign%22%2C%20%22iconColor%22%3A%20%22white%22%2C%20%22markerColor%22%3A%20%22blue%22%2C%20%22prefix%22%3A%20%22glyphicon%22%7D%0A%20%20%20%20%20%20%20%20%20%20%20%20%29%3B%0A%20%20%20%20%20%20%20%20%20%20%20%20marker_ef48e62323c44084ba01fd2ef60717c6.setIcon%28icon_5b035bec0cd246ef99aa8859c6fbb557%29%3B%0A%20%20%20%20%20%20%20%20%0A%20%20%20%20%0A%20%20%20%20%20%20%20%20var%20popup_374e7add97b144eb99651effb03c8fed%20%3D%20L.popup%28%7B%22maxWidth%22%3A%20%22100%25%22%7D%29%3B%0A%0A%20%20%20%20%20%20%20%20%0A%20%20%20%20%20%20%20%20%20%20%20%20var%20html_3683c2f63cee47af82c247ebba1838d7%20%3D%20%24%28%60%3Cdiv%20id%3D%22html_3683c2f63cee47af82c247ebba1838d7%22%20style%3D%22width%3A%20100.0%25%3B%20height%3A%20100.0%25%3B%22%3ESimpanganPulauPinang%20%20%3C/div%3E%60%29%5B0%5D%3B%0A%20%20%20%20%20%20%20%20%20%20%20%20popup_374e7add97b144eb99651effb03c8fed.setContent%28html_3683c2f63cee47af82c247ebba1838d7%29%3B%0A%20%20%20%20%20%20%20%20%0A%0A%20%20%20%20%20%20%20%20marker_ef48e62323c44084ba01fd2ef60717c6.bindPopup%28popup_374e7add97b144eb99651effb03c8fed%29%0A%20%20%20%20%20%20%20%20%3B%0A%0A%20%20%20%20%20%20%20%20%0A%20%20%20%20%0A%20%20%20%20%0A%20%20%20%20%20%20%20%20%20%20%20%20marker_ef48e62323c44084ba01fd2ef60717c6.bindTooltip%28%0A%20%20%20%20%20%20%20%20%20%20%20%20%20%20%20%20%60%3Cdiv%3E%0A%20%20%20%20%20%20%20%20%20%20%20%20%20%20%20%20%20%20%20%20%20SimpanganPulauPinang%0A%20%20%20%20%20%20%20%20%20%20%20%20%20%20%20%20%20%3C/div%3E%60%2C%0A%20%20%20%20%20%20%20%20%20%20%20%20%20%20%20%20%7B%22sticky%22%3A%20true%7D%0A%20%20%20%20%20%20%20%20%20%20%20%20%29%3B%0A%20%20%20%20%20%20%20%20%0A%3C/script%3E onload=\"this.contentDocument.open();this.contentDocument.write(    decodeURIComponent(this.getAttribute('data-html')));this.contentDocument.close();\" allowfullscreen webkitallowfullscreen mozallowfullscreen></iframe></div></div>"
      ],
      "text/plain": [
       "<folium.folium.Map at 0x1700fb15fc8>"
      ]
     },
     "execution_count": 15,
     "metadata": {},
     "output_type": "execute_result"
    }
   ],
   "source": [
    "# Visualize map and its shortest route with Folium\n",
    "visualisasiMap"
   ]
  },
  {
   "cell_type": "code",
   "execution_count": null,
   "metadata": {},
   "outputs": [],
   "source": []
  }
 ],
 "metadata": {
  "kernelspec": {
   "display_name": "Python 3",
   "language": "python",
   "name": "python3"
  },
  "language_info": {
   "codemirror_mode": {
    "name": "ipython",
    "version": 3
   },
   "file_extension": ".py",
   "mimetype": "text/x-python",
   "name": "python",
   "nbconvert_exporter": "python",
   "pygments_lexer": "ipython3",
   "version": "3.7.4"
  }
 },
 "nbformat": 4,
 "nbformat_minor": 2
}
